{
  "cells": [
    {
      "cell_type": "markdown",
      "metadata": {
        "id": "view-in-github",
        "colab_type": "text"
      },
      "source": [
        "<a href=\"https://colab.research.google.com/github/Qubayl90/Module_3_Advanced_Python/blob/main/AdvancedPython_Regular_Expressions_Lecture_Updated_File_Rangers59_Practice.ipynb\" target=\"_parent\"><img src=\"https://colab.research.google.com/assets/colab-badge.svg\" alt=\"Open In Colab\"/></a>"
      ]
    },
    {
      "cell_type": "markdown",
      "metadata": {
        "id": "sJVB4BvhMUZn"
      },
      "source": [
        "# Regular Expressions"
      ]
    },
    {
      "cell_type": "markdown",
      "metadata": {
        "id": "DdojEWpEMUZs"
      },
      "source": [
        "# Tasks today:\n",
        "1) <b>Importing</b> <br>\n",
        "2) <b>Using Regular Expressions</b> <br>\n",
        " &nbsp;&nbsp;&nbsp;&nbsp; a) re.compile() <br>\n",
        " &nbsp;&nbsp;&nbsp;&nbsp; b) re.match() <br>\n",
        " &nbsp;&nbsp;&nbsp;&nbsp; c) re.findall() <br>\n",
        " &nbsp;&nbsp;&nbsp;&nbsp; d) re.search() <br>\n",
        "3) <b>Sets</b> <br>\n",
        " &nbsp;&nbsp;&nbsp;&nbsp; a) Integer Ranges <br>\n",
        " &nbsp;&nbsp;&nbsp;&nbsp; b) Character Ranges <br>\n",
        "4) <b>Counting Occurences</b> <br>\n",
        " &nbsp;&nbsp;&nbsp;&nbsp; a) {x} <br>\n",
        " &nbsp;&nbsp;&nbsp;&nbsp; b) {, x} <br>\n",
        " &nbsp;&nbsp;&nbsp;&nbsp; c) {?} <br>\n",
        " &nbsp;&nbsp;&nbsp;&nbsp; d) {*} <br>\n",
        " &nbsp;&nbsp;&nbsp;&nbsp; e) {+} <br>\n",
        "5) <b>In-Class Exercise #1</b> <br>\n",
        "6) <b>Escaping Characters</b> <br>\n",
        "7) <b>Grouping</b> <br>\n",
        "8) <b>In-Class Exercise #2</b> <br>\n",
        "9) <b>Opening a File</b> <br>\n",
        " &nbsp;&nbsp;&nbsp;&nbsp; a) open() <br>\n",
        " &nbsp;&nbsp;&nbsp;&nbsp; b) with open() <br>\n",
        " &nbsp;&nbsp;&nbsp;&nbsp; c) re.match() <br>\n",
        " &nbsp;&nbsp;&nbsp;&nbsp; d) re.search() <br>\n",
        " &nbsp;&nbsp;&nbsp;&nbsp; e) Store the String in a Variable <br>\n",
        "10) <b>Regex Project</b> <br>"
      ]
    },
    {
      "cell_type": "markdown",
      "metadata": {
        "id": "VRPWgrg1MUZt"
      },
      "source": [
        "### Importing <br>\n",
        "<p>Regular Expressions are universal throughout most programming languages... They are generally imported through the module 're'.</p>"
      ]
    },
    {
      "cell_type": "code",
      "execution_count": 2,
      "metadata": {
        "id": "qLRjh4AdMUZu"
      },
      "outputs": [],
      "source": [
        "# import re\n",
        "import re"
      ]
    },
    {
      "cell_type": "markdown",
      "metadata": {
        "id": "3c0hNvdbMUZv"
      },
      "source": [
        "### Using Regular Expressions <br>\n",
        "<p>Regular expressions give us the ability to search for patterns within text, strings, files, etc. They serve several uses, such as; security measures, searching, filtering, pattern recognition, and more...</p>"
      ]
    },
    {
      "cell_type": "markdown",
      "metadata": {
        "id": "S8blkcovMUZw"
      },
      "source": [
        "##### re.compile()"
      ]
    },
    {
      "cell_type": "code",
      "execution_count": null,
      "metadata": {
        "id": "jBJ0ZI4tMUZw"
      },
      "outputs": [],
      "source": [
        "# using compile, pre determines the string to be used in regular expression methods\n",
        "pattern = re.compile('abcd')"
      ]
    },
    {
      "cell_type": "markdown",
      "metadata": {
        "id": "wBmqF5DQMUZx"
      },
      "source": [
        "##### re.match()"
      ]
    },
    {
      "cell_type": "code",
      "execution_count": null,
      "metadata": {
        "id": "Dd_00XY1MUZx",
        "colab": {
          "base_uri": "https://localhost:8080/"
        },
        "outputId": "b4764e5b-fccd-43c0-e2a0-1d6513cb5d6e"
      },
      "outputs": [
        {
          "output_type": "stream",
          "name": "stdout",
          "text": [
            "<re.Match object; span=(0, 4), match='abcd'>\n",
            "(0, 4)\n",
            "<class 'tuple'>\n"
          ]
        }
      ],
      "source": [
        "match = pattern.match('abcd123')\n",
        "print(match)\n",
        "\n",
        "# Accessing the span of the match\n",
        "print(match.span())\n",
        "print(type(match.span()))"
      ]
    },
    {
      "cell_type": "markdown",
      "metadata": {
        "id": "b4iRCIbEMUZy"
      },
      "source": [
        "##### re.findall()"
      ]
    },
    {
      "cell_type": "code",
      "execution_count": null,
      "metadata": {
        "id": "chyzxg2CMUZy",
        "colab": {
          "base_uri": "https://localhost:8080/"
        },
        "outputId": "802de545-54af-453d-9651-6c033d0eb0be"
      },
      "outputs": [
        {
          "output_type": "stream",
          "name": "stdout",
          "text": [
            "['abcd', 'abcd', 'abcd', 'abcd']\n",
            "Help on function findall in module re:\n",
            "\n",
            "findall(pattern, string, flags=0)\n",
            "    Return a list of all non-overlapping matches in the string.\n",
            "    \n",
            "    If one or more capturing groups are present in the pattern, return\n",
            "    a list of groups; this will be a list of tuples if the pattern\n",
            "    has more than one group.\n",
            "    \n",
            "    Empty matches are included in the result.\n",
            "\n"
          ]
        }
      ],
      "source": [
        "finders = pattern.findall('123abcd abcd abcd aggaabcd dcsd abcabc')\n",
        "print(finders)\n",
        "help(re.findall)"
      ]
    },
    {
      "cell_type": "markdown",
      "metadata": {
        "id": "kOZBuQbAMUZz"
      },
      "source": [
        "##### re.search()"
      ]
    },
    {
      "cell_type": "code",
      "execution_count": null,
      "metadata": {
        "id": "Biwa3uJaMUZz",
        "colab": {
          "base_uri": "https://localhost:8080/"
        },
        "outputId": "503d2a36-63f8-4427-d857-957658914e69"
      },
      "outputs": [
        {
          "output_type": "stream",
          "name": "stdout",
          "text": [
            "<re.Match object; span=(14, 18), match='abcd'>\n",
            "(14, 18)\n",
            "abcd\n"
          ]
        }
      ],
      "source": [
        "random_string = '1123 sdf 3455 abcd vcb abc'\n",
        "search = pattern.search(random_string)\n",
        "print(search)\n",
        "span = search.span()\n",
        "print(span)\n",
        "print(random_string[span[0]:span[1]])"
      ]
    },
    {
      "cell_type": "markdown",
      "metadata": {
        "id": "a2zWhi3gMUZz"
      },
      "source": [
        "### Sets <br>\n",
        "<p>The following cells will allow you to use regular expressions to search for certain values within a range such as numbers 1 through 4.</p>"
      ]
    },
    {
      "cell_type": "markdown",
      "metadata": {
        "id": "roPSM2yBMUZz"
      },
      "source": [
        "##### [a-z] or [A-Z] - any lowercase/uppercase letters from a to z<br/>[^2] - anything that's not 2"
      ]
    },
    {
      "cell_type": "markdown",
      "metadata": {
        "id": "4kbnbTGzMUZ0"
      },
      "source": [
        "##### Integer Ranges"
      ]
    },
    {
      "cell_type": "code",
      "execution_count": null,
      "metadata": {
        "id": "LIAYW9EbMUZ0",
        "colab": {
          "base_uri": "https://localhost:8080/"
        },
        "outputId": "0709a7df-14ba-47d0-8d53-2f2de561afa9"
      },
      "outputs": [
        {
          "output_type": "stream",
          "name": "stdout",
          "text": [
            "<re.Match object; span=(0, 3), match='691'>\n",
            "691\n"
          ]
        }
      ],
      "source": [
        "pattern_int = re.compile('[0-6][6-9][0-2]')\n",
        "\n",
        "random_numbers = pattern_int.search('69158')\n",
        "print(random_numbers)\n",
        "span = random_numbers.span()\n",
        "print(random_numbers[span[0]])"
      ]
    },
    {
      "cell_type": "markdown",
      "metadata": {
        "id": "4xQzEQSDMUZ0"
      },
      "source": [
        "##### Character Ranges"
      ]
    },
    {
      "cell_type": "code",
      "execution_count": null,
      "metadata": {
        "id": "NzrzoyUhMUZ1",
        "colab": {
          "base_uri": "https://localhost:8080/"
        },
        "outputId": "f2d00537-b2e9-4973-d6a7-bde72cf8d8bd"
      },
      "outputs": [
        {
          "output_type": "stream",
          "name": "stdout",
          "text": [
            "['He', 'Mr', 'An']\n"
          ]
        }
      ],
      "source": [
        "char_pattern = re.compile('[A-Z][a-z]')\n",
        "\n",
        "found = char_pattern.findall('Hello there Mr Anderson')\n",
        "print(found)"
      ]
    },
    {
      "cell_type": "markdown",
      "metadata": {
        "id": "S6hUxBq2MUZ1"
      },
      "source": [
        "### Counting Occurences"
      ]
    },
    {
      "cell_type": "markdown",
      "metadata": {
        "id": "VlkpqorsMUZ1"
      },
      "source": [
        "##### {x} - something that occurs {num_of_times}"
      ]
    },
    {
      "cell_type": "code",
      "execution_count": null,
      "metadata": {
        "id": "18gxAIm3MUZ1",
        "colab": {
          "base_uri": "https://localhost:8080/"
        },
        "outputId": "a87d6c2e-f0de-4902-92f3-0e3e00c46b34"
      },
      "outputs": [
        {
          "output_type": "stream",
          "name": "stdout",
          "text": [
            "['An22', 'Ff01']\n"
          ]
        }
      ],
      "source": [
        "char_pattern_count = re.compile('[A-Z][a-z][0-3]{2}')\n",
        "\n",
        "found_count = char_pattern_count.findall(\"Hello Mr An22 and Ff01 Ge9 GG08\")\n",
        "print(found_count)"
      ]
    },
    {
      "cell_type": "markdown",
      "metadata": {
        "id": "tKTrHdF5MUZ1"
      },
      "source": [
        "##### {x, x} - something that occurs between x and x times"
      ]
    },
    {
      "cell_type": "code",
      "execution_count": null,
      "metadata": {
        "id": "5tXPQys4MUZ1",
        "colab": {
          "base_uri": "https://localhost:8080/"
        },
        "outputId": "9e68b893-7d3d-4070-97e8-5fd571f721f9"
      },
      "outputs": [
        {
          "output_type": "stream",
          "name": "stdout",
          "text": [
            "['m', 'mmm', 'm', 'm', 'mm', 'm', 'mm']\n"
          ]
        }
      ],
      "source": [
        "random_pattern = re.compile('m{1,4}')\n",
        "random_statment = random_pattern.findall('Hi mr mmm MMMM m Mm mm fgdfmMdfvdsfb mmHH')\n",
        "print(random_statment)"
      ]
    },
    {
      "cell_type": "markdown",
      "metadata": {
        "id": "KZ0MZ4odMUZ1"
      },
      "source": [
        "##### ? - something that occurs 0 or 1 time"
      ]
    },
    {
      "cell_type": "code",
      "execution_count": null,
      "metadata": {
        "id": "uLctYxGIMUZ2",
        "colab": {
          "base_uri": "https://localhost:8080/"
        },
        "outputId": "b8b8c21a-ad55-4647-8258-26b894b41154"
      },
      "outputs": [
        {
          "output_type": "stream",
          "name": "stdout",
          "text": [
            "['Mrs', 'Mrss', 'Mrss', 'Mrs']\n"
          ]
        }
      ],
      "source": [
        "pattern = re.compile('Mrss?')\n",
        "\n",
        "found_pat =pattern.findall('Hello M there Mr.Anderson, Mrs MRs Mrsss Mrss adhfvMrsh')\n",
        "print(found_pat)"
      ]
    },
    {
      "cell_type": "markdown",
      "metadata": {
        "id": "_VYMd1ZyMUZ2"
      },
      "source": [
        "##### * - something that occurs at least 0 times"
      ]
    },
    {
      "cell_type": "code",
      "execution_count": null,
      "metadata": {
        "id": "1Xa_I0JNMUZ2",
        "colab": {
          "base_uri": "https://localhost:8080/"
        },
        "outputId": "5bf04a68-788a-418f-c066-d816095880c9"
      },
      "outputs": [
        {
          "output_type": "stream",
          "name": "stdout",
          "text": [
            "['Ms', 'Ms', 's', 's', 's', 's', 's', 's', 's', 's', 's', 's', 's']\n"
          ]
        }
      ],
      "source": [
        "pattern_m = re.compile('M*s')\n",
        "\n",
        "found_m =pattern_m.findall('Hello Ms there Msss Mr.Anderson, Mrs MRs Mrsss Mrss MS adhfvMrsh')\n",
        "print(found_m)"
      ]
    },
    {
      "cell_type": "markdown",
      "metadata": {
        "id": "iwpRHfnrMUZ2"
      },
      "source": [
        "##### + - something that occurs at least once"
      ]
    },
    {
      "cell_type": "code",
      "execution_count": null,
      "metadata": {
        "id": "A8Q_7s23MUZ2",
        "colab": {
          "base_uri": "https://localhost:8080/"
        },
        "outputId": "b4c4e3ff-d242-4b88-db19-0c8c421f5112"
      },
      "outputs": [
        {
          "output_type": "stream",
          "name": "stdout",
          "text": [
            "['Ms', 'Ms', 'MMMs']\n"
          ]
        }
      ],
      "source": [
        "pattern_again = re.compile('M+s')\n",
        "\n",
        "found_patt =pattern_again.findall('Hello Ms there Msss Mr.Anderson, Mrs MRs Mrsss Mrss MS adhfvMrsh MMMs')\n",
        "print(found_patt)"
      ]
    },
    {
      "cell_type": "markdown",
      "metadata": {
        "id": "ju9pt3JrMUZ2"
      },
      "source": [
        "##### In-class exercise 1: \n",
        "\n",
        "Use a regular expression to find every number in the given string"
      ]
    },
    {
      "cell_type": "code",
      "execution_count": null,
      "metadata": {
        "id": "B4FCnB7rMUZ2",
        "colab": {
          "base_uri": "https://localhost:8080/"
        },
        "outputId": "bf049c42-bb04-4589-a006-7b315b7eccd9"
      },
      "outputs": [
        {
          "output_type": "stream",
          "name": "stdout",
          "text": [
            "['25234523', '1', '2', '22']\n"
          ]
        }
      ],
      "source": [
        "my_string = \"This string hsa 25234523 number, its only 1 string. Lets do it 2day or 22morrow\"\n",
        "pattern_number = re.compile('[0-9]+')\n",
        "\n",
        "found_numbers = pattern_number.findall(my_string)\n",
        "print(found_numbers)"
      ]
    },
    {
      "cell_type": "markdown",
      "metadata": {
        "id": "EvW-zAYlMUZ2"
      },
      "source": [
        "### Escaping Characters"
      ]
    },
    {
      "cell_type": "markdown",
      "metadata": {
        "id": "sK1Hrw_7MUZ3"
      },
      "source": [
        "##### \\w - look for any Unicode character<br/>\\W - look for anything that isnt a Unicode character\n",
        "\n",
        "[History on Unicode](http://unicode.org/standard/WhatIsUnicode.html)\n",
        "\n",
        "[More on Unicode Characters](https://en.wikipedia.org/wiki/List_of_Unicode_characters)"
      ]
    },
    {
      "cell_type": "code",
      "execution_count": null,
      "metadata": {
        "id": "VK7TJUCzMUZ3",
        "colab": {
          "base_uri": "https://localhost:8080/"
        },
        "outputId": "6418dee2-5fb1-4a54-abe7-6aa7ddbf9ca6"
      },
      "outputs": [
        {
          "output_type": "stream",
          "name": "stdout",
          "text": [
            "['This', 'is', 'a', 'sentence', 'with', 'alphanumberic', 'characters', '2A', 'rd2', 'u7u', 'ddd', '888']\n",
            "[' ', ' ', ' ', ' ', ' , , ..@', ' ', ' ', '@ ', '  ', ' ', ' ', ' **** - ']\n"
          ]
        }
      ],
      "source": [
        "pattern_1 = re.compile('[\\w]+') #Alphanumeric Characters\n",
        "pattern_2 = re.compile('[\\W]+') #Non Alphanumeric Characters  \n",
        "\n",
        "found_1 = pattern_1.findall('This is a sentence with, , ..@ alphanumberic characters 2A@ rd2  u7u ddd 888 **** - ')\n",
        "found_2 = pattern_2.findall('This is a sentence with , , ..@alphanumberic characters 2A@ rd2  u7u ddd 888 **** - ')\n",
        "print(found_1)\n",
        "print(found_2)"
      ]
    },
    {
      "cell_type": "markdown",
      "metadata": {
        "id": "GleF_hQQMUZ3"
      },
      "source": [
        "##### \\d - look for any digit 0-9<br/>\\D - look for anything that isnt a digit"
      ]
    },
    {
      "cell_type": "code",
      "execution_count": null,
      "metadata": {
        "id": "c0hf_G7fMUZ3",
        "colab": {
          "base_uri": "https://localhost:8080/"
        },
        "outputId": "414d16c8-37f1-49ee-b5fd-f99d478e0b33"
      },
      "outputs": [
        {
          "output_type": "stream",
          "name": "stdout",
          "text": [
            "['7th', '50da', '6th', '3rd', '1st', '11th', '00th']\n"
          ]
        }
      ],
      "source": [
        "pattern_nums = re.compile('\\d{1,2}[a-z]{2}')\n",
        "\n",
        "found_data = pattern_nums.findall('Today is the 7th, in 50days it will be 6th 3rd 1st 11th 100th ')\n",
        "print(found_data)"
      ]
    },
    {
      "cell_type": "markdown",
      "metadata": {
        "id": "Z0WwNhB3MUZ3"
      },
      "source": [
        "##### \\s - look for any white space<br/>\\S - look for anything that isnt whitespace"
      ]
    },
    {
      "cell_type": "code",
      "execution_count": null,
      "metadata": {
        "id": "F3SEWOycMUZ3",
        "colab": {
          "base_uri": "https://localhost:8080/"
        },
        "outputId": "65403d02-e503-46f1-b377-bab0ca3e093c"
      },
      "outputs": [
        {
          "output_type": "stream",
          "name": "stdout",
          "text": [
            "[' ', ' ', ' ', ' ']\n",
            "['Are', 'you', 'affraid', 'of', 'dars']\n"
          ]
        }
      ],
      "source": [
        "pattern_no_space = re.compile('\\S[a-z]+')\n",
        "pattern_space = re.compile('\\s+')\n",
        "\n",
        "found_space = pattern_space.findall(\"Are you affraid of dars??\")\n",
        "found_dark = pattern_no_space.findall(\"Are you affraid of dars??\")\n",
        "\n",
        "print(found_space)\n",
        "print(found_dark)"
      ]
    },
    {
      "cell_type": "markdown",
      "metadata": {
        "id": "Fh9HLVO8MUZ3"
      },
      "source": [
        "##### \\b - look for boundaries or edges of a word<br/>\\B - look for anything that isnt a boundary"
      ]
    },
    {
      "cell_type": "code",
      "execution_count": null,
      "metadata": {
        "id": "qttVJ4YDMUZ3",
        "colab": {
          "base_uri": "https://localhost:8080/"
        },
        "outputId": "e2bfbbfd-bf37-4752-898d-747e611e4092"
      },
      "outputs": [
        {
          "output_type": "stream",
          "name": "stdout",
          "text": [
            "[]\n",
            "['TheCodingTemple']\n"
          ]
        }
      ],
      "source": [
        "pattern_bound = re.compile(r'\\bTheCodingTemple\\b')\n",
        "pattern_bound_none = re.compile(r'\\BTheCodingTemple\\B')\n",
        "\n",
        "no_found_bound = pattern_bound_none.findall('TheCodingTemple')\n",
        "found_bound = pattern_bound.findall('TheCodingTemple')\n",
        "\n",
        "print(no_found_bound)\n",
        "print(found_bound)"
      ]
    },
    {
      "cell_type": "markdown",
      "metadata": {
        "id": "Fp-SU8-EMUZ3"
      },
      "source": [
        "### Grouping"
      ]
    },
    {
      "cell_type": "code",
      "execution_count": null,
      "metadata": {
        "id": "0RrPRY-1MUZ4",
        "colab": {
          "base_uri": "https://localhost:8080/"
        },
        "outputId": "441c5f1a-0834-452e-f66c-49e0eb625afb"
      },
      "outputs": [
        {
          "output_type": "stream",
          "name": "stdout",
          "text": [
            "[('Max', 'Smith'), ('Sam', 'Darnold'), ('Lebros', 'James'), ('Michael', 'Jordan'), ('Patrick', 'McDonald')]\n",
            "Max Smith\n",
            "Not a good name\n",
            "Sam Darnold\n",
            "Lebros James\n",
            "Michael Jordan\n",
            "Patrick McDonald\n"
          ]
        }
      ],
      "source": [
        "my_string_again = 'Max Smith, aaron rodgers, Sam Darnold, Lebros James, Michael Jordan, Patrick McDonald'\n",
        "\n",
        "pattern_name = re.compile('([A-Z][a-zA-Za-z]+) ([A-Z][A-Za-z]+)')\n",
        "found_names = pattern_name.findall(my_string_again)\n",
        "print(found_names)\n",
        "\n",
        "for name in my_string_again.split(','):\n",
        "  match = pattern_name.search(name)\n",
        "  if match:\n",
        "    print(match.group())\n",
        "  else:\n",
        "    print(\"Not a good name\")"
      ]
    },
    {
      "cell_type": "markdown",
      "metadata": {
        "id": "J_d7SmBtMUZ4"
      },
      "source": [
        "##### In-class Exercise 2:\n",
        "\n",
        "Write a function using regular expressions to find the domain name in the given email addresses (and return None for the invalid email addresses)<br><b>HINT: Use '|' for either or</b>"
      ]
    },
    {
      "cell_type": "code",
      "execution_count": null,
      "metadata": {
        "id": "zRin321sMUZ4",
        "colab": {
          "base_uri": "https://localhost:8080/"
        },
        "outputId": "4e521532-203e-4ca0-9728-64c96a4212a7"
      },
      "outputs": [
        {
          "output_type": "stream",
          "name": "stdout",
          "text": [
            "None\n",
            "pocohontas1776@gmail.com\n",
            "None\n",
            "yourfavoriteband@g6.org\n",
            "None\n"
          ]
        }
      ],
      "source": [
        "my_emails = [\"jordanw@codingtemple.orgcom\", \"pocohontas1776@gmail.com\", \"helloworld@aol..com\",\n",
        "             \"yourfavoriteband@g6.org\", \"@codingtemple.com\"]\n",
        "\n",
        "# You can also use the $ at the end of your compile expression -- this stops the search\n",
        "#.com OR .org => com|org\n",
        "\n",
        "pattern_email = re.compile(\"^[a-zA-Z0-9-_]+@[a-zA-Z0-9]+\\.(com|org)$\")\n",
        "#found_emails = pattern_email.findall(my_emails)\n",
        "#print(found_emails)\n",
        "\n",
        "for email in my_emails:\n",
        "  match = pattern_email.search(email)\n",
        "  if match:\n",
        "    print(match.group())\n",
        "  else:\n",
        "    print(\"None\")\n",
        "\n",
        "#Expected output:\n",
        "#None\n",
        "#pocohontas1776@gmail.com\n",
        "#None\n",
        "#yourfavoriteband@g6.org\n",
        "#None"
      ]
    },
    {
      "cell_type": "markdown",
      "metadata": {
        "id": "LDuUEZcxMUZ4"
      },
      "source": [
        "### Opening a File <br>\n",
        "<p>Python gives us a couple ways to import files, below are the two used most often.</p>"
      ]
    },
    {
      "cell_type": "markdown",
      "metadata": {
        "id": "yvmnQafFMUZ4"
      },
      "source": [
        "##### open()"
      ]
    },
    {
      "cell_type": "code",
      "execution_count": null,
      "metadata": {
        "id": "Q1-waNAnMUZ4",
        "colab": {
          "base_uri": "https://localhost:8080/"
        },
        "outputId": "11cc2596-2671-488f-f057-d88e21554969"
      },
      "outputs": [
        {
          "output_type": "stream",
          "name": "stdout",
          "text": [
            "﻿Hawkins, Derek        derek@codingtemple.com        (555) 555-5555        Teacher, Coding Temple        @derekhawkins\n",
            "Zhai, Mo        mozhai@codingtemple.com        (555) 555-5554        Teacher, Coding Temple\n",
            "Johnson, Joe        joejohnson@codingtemple.com                Johson, Joe\n",
            "Osterberg, Sven-Erik        governor@norrbotten.co.se                Governor, Norrbotten        @sverik\n",
            ", Tim        tim@killerrabbit.com                Enchanter, Killer Rabbit Cave\n",
            "Butz, Ryan        ryanb@codingtemple.com        (555) 555-5543        CEO, Coding Temple        @ryanbutz\n",
            "Doctor, The        doctor+companion@tardis.co.uk                Time Lord, Gallifrey\n",
            "Exampleson, Example        me@example.com        555-555-5552        Example, Example Co.        @example\n",
            "Pael, Ripal        ripalp@codingtemple.com        (555) 555-5553        Teacher, Coding Temple        @ripalp\n",
            "Vader, Darth        darth-vader@empire.gov        (555) 555-4444        Sith Lord, Galactic Empire        @darthvader\n",
            "Fernandez de la Vega Sanz, Maria Teresa        mtfvs@spain.gov                First Deputy Prime Minister, Spanish Gov\n"
          ]
        }
      ],
      "source": [
        "f = open('names.txt')\n",
        "data = f.read()\n",
        "print(data)\n",
        "f.close()"
      ]
    },
    {
      "cell_type": "markdown",
      "metadata": {
        "id": "rCgnpugPMUZ5"
      },
      "source": [
        "##### with open()"
      ]
    },
    {
      "cell_type": "code",
      "execution_count": null,
      "metadata": {
        "id": "KFnnkf7KMUZ5",
        "colab": {
          "base_uri": "https://localhost:8080/"
        },
        "outputId": "bb959e85-4e21-406c-8e6c-183263b5e1f4"
      },
      "outputs": [
        {
          "output_type": "stream",
          "name": "stdout",
          "text": [
            "﻿Hawkins, Derek        derek@codingtemple.com        (555) 555-5555        Teacher, Coding Temple        @derekhawkins\n",
            "Zhai, Mo        mozhai@codingtemple.com        (555) 555-5554        Teacher, Coding Temple\n",
            "Johnson, Joe        joejohnson@codingtemple.com                Johson, Joe\n",
            "Osterberg, Sven-Erik        governor@norrbotten.co.se                Governor, Norrbotten        @sverik\n",
            ", Tim        tim@killerrabbit.com                Enchanter, Killer Rabbit Cave\n",
            "Butz, Ryan        ryanb@codingtemple.com        (555) 555-5543        CEO, Coding Temple        @ryanbutz\n",
            "Doctor, The        doctor+companion@tardis.co.uk                Time Lord, Gallifrey\n",
            "Exampleson, Example        me@example.com        555-555-5552        Example, Example Co.        @example\n",
            "Pael, Ripal        ripalp@codingtemple.com        (555) 555-5553        Teacher, Coding Temple        @ripalp\n",
            "Vader, Darth        darth-vader@empire.gov        (555) 555-4444        Sith Lord, Galactic Empire        @darthvader\n",
            "Fernandez de la Vega Sanz, Maria Teresa        mtfvs@spain.gov                First Deputy Prime Minister, Spanish Gov\n"
          ]
        }
      ],
      "source": [
        "with open('names.txt') as f:\n",
        "  data = f.read()\n",
        "  print(data)"
      ]
    },
    {
      "cell_type": "markdown",
      "metadata": {
        "id": "5uJEiz_tMUZ5"
      },
      "source": [
        "##### re.match()"
      ]
    },
    {
      "cell_type": "code",
      "execution_count": null,
      "metadata": {
        "id": "MszhA-_5MUZ5",
        "colab": {
          "base_uri": "https://localhost:8080/"
        },
        "outputId": "1cbdcf6a-31a8-491a-c387-382fc80edbd9"
      },
      "outputs": [
        {
          "output_type": "stream",
          "name": "stdout",
          "text": [
            "﻿Hawkins, Derek        derek@codingtemple.com        (555) 555-5555        Teacher, Coding Temple        @derekhawkins\n",
            "Zhai, Mo        mozhai@codingtemple.com        (555) 555-5554        Teacher, Coding Temple\n",
            "Johnson, Joe        joejohnson@codingtemple.com                Johson, Joe\n",
            "Osterberg, Sven-Erik        governor@norrbotten.co.se                Governor, Norrbotten        @sverik\n",
            ", Tim        tim@killerrabbit.com                Enchanter, Killer Rabbit Cave\n",
            "Butz, Ryan        ryanb@codingtemple.com        (555) 555-5543        CEO, Coding Temple        @ryanbutz\n",
            "Doctor, The        doctor+companion@tardis.co.uk                Time Lord, Gallifrey\n",
            "Exampleson, Example        me@example.com        555-555-5552        Example, Example Co.        @example\n",
            "Pael, Ripal        ripalp@codingtemple.com        (555) 555-5553        Teacher, Coding Temple        @ripalp\n",
            "Vader, Darth        darth-vader@empire.gov        (555) 555-4444        Sith Lord, Galactic Empire        @darthvader\n",
            "Fernandez de la Vega Sanz, Maria Teresa        mtfvs@spain.gov                First Deputy Prime Minister, Spanish Gov\n",
            "None\n"
          ]
        }
      ],
      "source": [
        "with open('names.txt') as f:\n",
        "  data = f.read()\n",
        "print(data)\n",
        "print(re.match(r\"Hawkins, Derek\", data))\n"
      ]
    },
    {
      "cell_type": "markdown",
      "metadata": {
        "id": "ywMjgZ55MUZ5"
      },
      "source": [
        "##### re.search()"
      ]
    },
    {
      "cell_type": "code",
      "execution_count": null,
      "metadata": {
        "id": "LSBpAzkoMUZ5",
        "colab": {
          "base_uri": "https://localhost:8080/"
        },
        "outputId": "ff9a032d-bdf3-42db-e5f4-b6bd3e4833c8"
      },
      "outputs": [
        {
          "output_type": "stream",
          "name": "stdout",
          "text": [
            "<re.Match object; span=(786, 809), match='ripalp@codingtemple.com'>\n"
          ]
        }
      ],
      "source": [
        "print(re.search(r\"ripalp@codingtemple.com\", data))"
      ]
    },
    {
      "cell_type": "markdown",
      "metadata": {
        "id": "4rDnM_UCMUZ5"
      },
      "source": [
        "##### Store the String to a Variable"
      ]
    },
    {
      "cell_type": "code",
      "execution_count": null,
      "metadata": {
        "id": "VvN37n1qMUZ5",
        "colab": {
          "base_uri": "https://localhost:8080/"
        },
        "outputId": "0d14355c-3c48-4d91-cbb9-bf9441f633c2"
      },
      "outputs": [
        {
          "output_type": "stream",
          "name": "stdout",
          "text": [
            "Please input string to searchkkkk\n",
            "Nothing found\n"
          ]
        }
      ],
      "source": [
        "answer = input(\"Please input string to search\")\n",
        "\n",
        "found = re.findall(answer, data)\n",
        "\n",
        "if found:\n",
        "  print(f\"I found your data {found}\")\n",
        "else:\n",
        "  print(\"Nothing found\")"
      ]
    },
    {
      "cell_type": "markdown",
      "metadata": {
        "id": "YW377dSYMUZ5"
      },
      "source": [
        "### In-Class Exercise #3 <br>\n",
        "<p>Print each persons name and twitter handle, using groups, should look like:</p>\n",
        "<p>==============<br>\n",
        "   Full Name / Twitter<br>\n",
        "   ==============</p>\n",
        "Derek Hawkins / @derekhawkins\n",
        "\n",
        " Erik Sven-Osterberg / @sverik\n",
        "\n",
        " Ryan Butz / @ryanbutz\n",
        "\n",
        " Example Exampleson / @example\n",
        "\n",
        " Ripal Pael / @ripalp\n",
        "\n",
        " Darth Vader / @darthvader"
      ]
    },
    {
      "cell_type": "code",
      "source": [
        "my_string_again = 'Max Smith, aaron rodgers, Sam Darnold, Lebros James, Michael Jordan, Patrick McDonald'\n",
        "\n",
        "pattern_name = re.compile('([A-Z][a-zA-Za-z]+) ([A-Z][A-Za-z]+)')\n",
        "found_names = pattern_name.findall(my_string_again)\n",
        "print(found_names)\n",
        "\n",
        "for name in my_string_again.split(','):\n",
        "  match = pattern_name.search(name)\n",
        "  if match:\n",
        "    print(match.group())\n",
        "  else:\n",
        "    print(\"Not a good name\")"
      ],
      "metadata": {
        "id": "zh3YgXVDOGlq"
      },
      "execution_count": null,
      "outputs": []
    },
    {
      "cell_type": "code",
      "source": [
        "f.close()\n",
        "f = open(\"names.txt\")\n",
        "users = f.readlines()\n",
        "\n",
        "#pattern_users = re.compile(r'([A-Z][a-zA-Z]+-*[A-Z]*[a-zA-Z]*).+(@[a-zA-Z0-9]+$)')\n",
        "\n",
        "for user in users:\n",
        "    personNames = re.findall(r\"[A-Z][a-zA-Z]+-*[A-Z]*[a-zA-Z]*\", user)\n",
        "    twitterHandles = re.findall(r\"@[a-zA-Z0-9]+$\", user)\n",
        "    if personNames and twitterHandles:\n",
        "      print(f\"{personNames[1]} {personNames[0]} / {twitterHandles[0]}\\n\")\n",
        "f.close()"
      ],
      "metadata": {
        "colab": {
          "base_uri": "https://localhost:8080/"
        },
        "id": "LWESvcomcVcv",
        "outputId": "c3d1ff7f-48de-4d98-ab76-20b92200c10a"
      },
      "execution_count": null,
      "outputs": [
        {
          "output_type": "stream",
          "name": "stdout",
          "text": [
            "Derek Hawkins / @derekhawkins\n",
            "\n",
            "Sven-Erik Osterberg / @sverik\n",
            "\n",
            "Ryan Butz / @ryanbutz\n",
            "\n",
            "Example Exampleson / @example\n",
            "\n",
            "Ripal Pael / @ripalp\n",
            "\n",
            "Darth Vader / @darthvader\n",
            "\n"
          ]
        }
      ]
    },
    {
      "cell_type": "markdown",
      "metadata": {
        "id": "Tv5wpnUWMUZ6"
      },
      "source": [
        "### Regex project\n",
        "\n",
        "Use python to read the file regex_test.txt and print the last name on each line using regular expressions and groups (return None for names with no first and last name, or names that aren't properly capitalized)\n",
        "##### Hint: use with open() and readlines()"
      ]
    },
    {
      "cell_type": "code",
      "execution_count": null,
      "metadata": {
        "id": "JSgVKbTSMUZ6"
      },
      "outputs": [],
      "source": [
        "\"\"\"\n",
        "Expected Output\n",
        "Abraham Lincoln\n",
        "Andrew P Garfield\n",
        "Connor Milliken\n",
        "Jordan Alexander Williams\n",
        "None\n",
        "None\n",
        "\"\"\""
      ]
    },
    {
      "cell_type": "code",
      "execution_count": 7,
      "metadata": {
        "id": "u3ZARCB3MUZ6",
        "colab": {
          "base_uri": "https://localhost:8080/"
        },
        "outputId": "2a964718-fb66-418d-9d20-d55a2deca186"
      },
      "outputs": [
        {
          "output_type": "stream",
          "name": "stdout",
          "text": [
            "Abraham Lincoln\n",
            "Andrew P Garfield\n",
            "Connor Milliken\n",
            "Jordan Alexander Williams\n",
            "None\n",
            "None\n"
          ]
        }
      ],
      "source": [
        "f_regex_test = open(\"regex_test.txt\")\n",
        "person_names = f_regex_test.readlines()\n",
        "#print(person_names)\n",
        "\n",
        "pattern_person_name = re.compile('([A-Z][A-Za-z]*\\s*[A-Z]*[A-Za-z]*) ([A-Z][a-z]+)')         #('([A-Z][a-z]+) ([A-Z][a-z]+)')\n",
        "\n",
        "for person_name in person_names:\n",
        "  match = pattern_person_name.search(person_name)\n",
        "  if match:\n",
        "    print(match.group())\n",
        "  else:\n",
        "    print(\"None\")\n",
        "\n",
        "f_regex_test.close()"
      ]
    }
  ],
  "metadata": {
    "kernelspec": {
      "display_name": "Python 3",
      "language": "python",
      "name": "python3"
    },
    "language_info": {
      "codemirror_mode": {
        "name": "ipython",
        "version": 3
      },
      "file_extension": ".py",
      "mimetype": "text/x-python",
      "name": "python",
      "nbconvert_exporter": "python",
      "pygments_lexer": "ipython3",
      "version": "3.7.6"
    },
    "colab": {
      "provenance": [],
      "include_colab_link": true
    }
  },
  "nbformat": 4,
  "nbformat_minor": 0
}
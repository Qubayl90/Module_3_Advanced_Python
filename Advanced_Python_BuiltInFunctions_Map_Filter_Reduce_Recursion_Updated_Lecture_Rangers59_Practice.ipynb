{
  "cells": [
    {
      "cell_type": "markdown",
      "metadata": {
        "id": "view-in-github",
        "colab_type": "text"
      },
      "source": [
        "<a href=\"https://colab.research.google.com/github/Qubayl90/Module_3_Advanced_Python/blob/main/Advanced_Python_BuiltInFunctions_Map_Filter_Reduce_Recursion_Updated_Lecture_Rangers59_Practice.ipynb\" target=\"_parent\"><img src=\"https://colab.research.google.com/assets/colab-badge.svg\" alt=\"Open In Colab\"/></a>"
      ]
    },
    {
      "cell_type": "markdown",
      "metadata": {
        "id": "0dA_AuDMHl7F"
      },
      "source": [
        "# Map, Filter, Reduce, Lambda & Recursion"
      ]
    },
    {
      "cell_type": "markdown",
      "metadata": {
        "id": "iIUUSI7dHl7I"
      },
      "source": [
        "## Tasks Today:\n",
        "\n",
        "1) <b>Lambda Functions</b> <br>\n",
        " &nbsp;&nbsp;&nbsp;&nbsp; a) Syntax <br>\n",
        " &nbsp;&nbsp;&nbsp;&nbsp; b) Saving to a Variable <br>\n",
        " &nbsp;&nbsp;&nbsp;&nbsp; c) Multiple Inputs <br>\n",
        " &nbsp;&nbsp;&nbsp;&nbsp; d) Passing a Lambda into a Function <br>\n",
        " &nbsp;&nbsp;&nbsp;&nbsp; e) Returning a Lambda from a Function <br>\n",
        " &nbsp;&nbsp;&nbsp;&nbsp; f) In-Class Exercise #1 <br>\n",
        "2) <b>Map</b> <br>\n",
        " &nbsp;&nbsp;&nbsp;&nbsp; a) Syntax <br>\n",
        " &nbsp;&nbsp;&nbsp;&nbsp; b) Using Lambda's with Map <br>\n",
        " &nbsp;&nbsp;&nbsp;&nbsp; c) In-Class Exercise #2 <br>\n",
        "3) <b>Filter</b> <br>\n",
        " &nbsp;&nbsp;&nbsp;&nbsp; a) Syntax <br>\n",
        " &nbsp;&nbsp;&nbsp;&nbsp; b) Using Lambda's with Filter <br>\n",
        " &nbsp;&nbsp;&nbsp;&nbsp; c) In-Class Exercise #3 <br>\n",
        "4) <b>Reduce</b> <br>\n",
        " &nbsp;&nbsp;&nbsp;&nbsp; a) Syntax <br>\n",
        " &nbsp;&nbsp;&nbsp;&nbsp; b) Using Lambda's with Reduce <br>\n",
        " &nbsp;&nbsp;&nbsp;&nbsp; c) In-Class Exercise #4 <br>\n",
        "5) <b>Recursion</b> <br>\n",
        " &nbsp;&nbsp;&nbsp;&nbsp; a) Implementing a Base <br>\n",
        " &nbsp;&nbsp;&nbsp;&nbsp; b) Writing a Factorial Function <br>\n",
        " &nbsp;&nbsp;&nbsp;&nbsp; c) In-Class Exercise #5 <br>\n",
        "6) <b>Generators & Iterators</b> <br>\n",
        " &nbsp;&nbsp;&nbsp;&nbsp; a) Yield Keyword <br>\n",
        " &nbsp;&nbsp;&nbsp;&nbsp; b) Inifinite Generator <br>\n",
        " &nbsp;&nbsp;&nbsp;&nbsp; c) In-Class Exercise #6 <br>\n",
        "7) <b>Exercises</b> <br>\n",
        " &nbsp;&nbsp;&nbsp;&nbsp; a) Exercise #1 - Filtering Empty Strings <br>\n",
        " &nbsp;&nbsp;&nbsp;&nbsp; b) Exercise #2 - Sorting with Last Name <br>\n",
        " &nbsp;&nbsp;&nbsp;&nbsp; c) Exercise #3 - Conversion to Farhenheit <br>\n",
        " &nbsp;&nbsp;&nbsp;&nbsp; d) Exercise #4 - Fibonacci Sequence <br>"
      ]
    },
    {
      "cell_type": "markdown",
      "metadata": {
        "id": "jJd2xujNHl7J"
      },
      "source": [
        "## Lambda Functions <br>\n",
        "<p>Lambda functions... or \"Anonymous Functions\" are referring to inline functions with no name. The keyword lambda denotes the no name function, and executes within a single line. Without saving it to a variable; however, it is not able to be used, unless passed in either as a paramater or within list comprehension.<br>Written as \"(keyword lambda) (one or more inputs) (colon) (function to be executed)\"</p>"
      ]
    },
    {
      "cell_type": "markdown",
      "metadata": {
        "id": "7a9FuKpnHl7J"
      },
      "source": [
        "#### Syntax"
      ]
    },
    {
      "cell_type": "code",
      "execution_count": null,
      "metadata": {
        "id": "LYPc1s0XHl7J",
        "colab": {
          "base_uri": "https://localhost:8080/"
        },
        "outputId": "5fcff37b-f74a-4f51-e6da-4a9a804cdc02"
      },
      "outputs": [
        {
          "output_type": "stream",
          "name": "stdout",
          "text": [
            "6\n",
            "6\n",
            "6\n"
          ]
        }
      ],
      "source": [
        "def addTwo(x):\n",
        "  return x+2\n",
        "\n",
        "print(addTwo(4))\n",
        "\n",
        "print((lambda x:x+2)(4))\n",
        "\n",
        "a_num = 4\n",
        "\n",
        "print((lambda x:x+2)(a_num))"
      ]
    },
    {
      "cell_type": "markdown",
      "metadata": {
        "id": "Dsd4DIxHHl7K"
      },
      "source": [
        "#### Saving to a Variable"
      ]
    },
    {
      "cell_type": "code",
      "execution_count": null,
      "metadata": {
        "id": "Ml-hSXJhHl7K",
        "colab": {
          "base_uri": "https://localhost:8080/"
        },
        "outputId": "7f6e0a93-4c41-465a-a3ae-3e116b748287"
      },
      "outputs": [
        {
          "output_type": "execute_result",
          "data": {
            "text/plain": [
              "6"
            ]
          },
          "metadata": {},
          "execution_count": 2
        }
      ],
      "source": [
        "f_test = lambda x: x+2\n",
        "f_test(4)"
      ]
    },
    {
      "cell_type": "markdown",
      "metadata": {
        "id": "rTAHovcYHl7K"
      },
      "source": [
        "#### Multiple Inputs"
      ]
    },
    {
      "cell_type": "code",
      "execution_count": null,
      "metadata": {
        "id": "GbNtDQd_Hl7L",
        "colab": {
          "base_uri": "https://localhost:8080/"
        },
        "outputId": "1952c407-3269-4a30-e57a-f9d32dca4bec"
      },
      "outputs": [
        {
          "output_type": "stream",
          "name": "stdout",
          "text": [
            "120\n",
            "120\n"
          ]
        }
      ],
      "source": [
        "print((lambda x,y,z: x * y *z)(3,5,8))\n",
        "\n",
        "x_test = lambda x,y,z: x*y*z\n",
        "print(x_test(3,5,8))"
      ]
    },
    {
      "cell_type": "markdown",
      "metadata": {
        "id": "1THOFg1BHl7L"
      },
      "source": [
        "#### Passing a Lambda into a Function"
      ]
    },
    {
      "cell_type": "code",
      "execution_count": null,
      "metadata": {
        "id": "nS028T4CHl7L",
        "colab": {
          "base_uri": "https://localhost:8080/"
        },
        "outputId": "c2577937-4336-4a92-a60d-47f886d4fb2a"
      },
      "outputs": [
        {
          "output_type": "execute_result",
          "data": {
            "text/plain": [
              "16"
            ]
          },
          "metadata": {},
          "execution_count": 4
        }
      ],
      "source": [
        "def multiply(f,num):\n",
        "  '''\n",
        "  f expects a lambda function\n",
        "  num expects a number\n",
        "  '''\n",
        "  return f(num)\n",
        "\n",
        "multiply(lambda x: x*x, 4)"
      ]
    },
    {
      "cell_type": "markdown",
      "metadata": {
        "id": "3XGVi-n7Hl7L"
      },
      "source": [
        "#### Returning a Lambda from a Function"
      ]
    },
    {
      "cell_type": "code",
      "execution_count": null,
      "metadata": {
        "id": "pl_Tjj6rHl7L",
        "colab": {
          "base_uri": "https://localhost:8080/"
        },
        "outputId": "70fc98e1-5d1b-46e1-c4e1-cdb085dee2f8"
      },
      "outputs": [
        {
          "output_type": "stream",
          "name": "stdout",
          "text": [
            "<function returnFunc at 0x7f794f73e430>\n",
            "8\n",
            "26\n"
          ]
        }
      ],
      "source": [
        "# Regular defined function\n",
        "def multiply_test(num):\n",
        "  return num*4\n",
        "#Function within function\n",
        "def returnFunc():\n",
        "  test = 4\n",
        "  def multiply(num):\n",
        "    return num * 2\n",
        "  return multiply\n",
        "\n",
        "f_return = returnFunc()\n",
        "print(returnFunc)\n",
        "print(f_return(4))\n",
        "\n",
        "#Lambda function returned from a regular function\n",
        "def returnLam(b,c):\n",
        "  return lambda x, a: x + a + b + c\n",
        "r_lamb = returnLam(4,5)   #b and c\n",
        "print(r_lamb(8,9))        #x and a"
      ]
    },
    {
      "cell_type": "markdown",
      "metadata": {
        "id": "tv5qUl7fHl7L"
      },
      "source": [
        "#### If Statements within Lambdas"
      ]
    },
    {
      "cell_type": "code",
      "execution_count": null,
      "metadata": {
        "id": "tJWygyJrHl7M",
        "colab": {
          "base_uri": "https://localhost:8080/"
        },
        "outputId": "fc2e50cc-7bef-4b34-fd9a-92d996736948"
      },
      "outputs": [
        {
          "output_type": "stream",
          "name": "stdout",
          "text": [
            "17\n",
            "22\n",
            "50\n"
          ]
        }
      ],
      "source": [
        "# Lambda x: True if (condition) else False\n",
        "f_condition = lambda num: num * 2 if num >20 else num +2\n",
        "\n",
        "print(f_condition(15))\n",
        "print(f_condition(20))\n",
        "print(f_condition(25))"
      ]
    },
    {
      "cell_type": "markdown",
      "metadata": {
        "id": "2YyOY47hHl7M"
      },
      "source": [
        "#### In-Class Exercise #1 <br>\n",
        "<p>Write an anonymous function that cubes the arguments passed in and assign the anonymous function to a variable 'f'.</p>"
      ]
    },
    {
      "cell_type": "code",
      "execution_count": null,
      "metadata": {
        "id": "USzhdd4WHl7M",
        "colab": {
          "base_uri": "https://localhost:8080/"
        },
        "outputId": "0576aaa8-7b39-4e2c-8303-8917a2a39294"
      },
      "outputs": [
        {
          "output_type": "stream",
          "name": "stdout",
          "text": [
            "<function <lambda> at 0x7f794f9055e0>\n",
            "64\n",
            "216\n"
          ]
        }
      ],
      "source": [
        "f_cube = lambda num: num*num*num\n",
        "print(f_cube)\n",
        "print(f_cube(4))\n",
        "print(f_cube(6))"
      ]
    },
    {
      "cell_type": "markdown",
      "metadata": {
        "id": "arqI3KPcHl7M"
      },
      "source": [
        "## Map <br>\n",
        "<p>The map function allows you to iterate over an entire list while running a function on each item of the list. This is why the map function works well with lambda's, because it simplifies things and you write less lines of code.<br>The syntax for a map function is \"map(function to be used, list to be used)\"<br>However, you must be careful, as the map function returns a map object, not a list. To turn it into a list we use the list() type conversion.</p>"
      ]
    },
    {
      "cell_type": "markdown",
      "metadata": {
        "id": "hY5kbymIHl7M"
      },
      "source": [
        "#### Syntax"
      ]
    },
    {
      "cell_type": "code",
      "execution_count": null,
      "metadata": {
        "id": "u3Mm--ReHl7M",
        "colab": {
          "base_uri": "https://localhost:8080/"
        },
        "outputId": "2abb004b-aaa1-4190-d1f8-7c6a96313bf5"
      },
      "outputs": [
        {
          "output_type": "stream",
          "name": "stdout",
          "text": [
            "[(16, 16), (11, 10), (20, 3), (9, 4), (15, 6)]\n"
          ]
        }
      ],
      "source": [
        "def func_square(num1, num2):\n",
        "  if num1<10 and num2 <10:\n",
        "    return num1**2, num2**2\n",
        "  else:\n",
        "    return num1, num2\n",
        "\n",
        "numbers = [4, 11, 20, 3, 15, 20]\n",
        "more_numbers = [4,10,3,2,6]\n",
        "\n",
        "squared_numbers_map = list(map(func_square,numbers,more_numbers))\n",
        "print(squared_numbers_map)"
      ]
    },
    {
      "cell_type": "markdown",
      "metadata": {
        "id": "i6zKM-G6Hl7M"
      },
      "source": [
        "#### Using Lambda's with Map"
      ]
    },
    {
      "cell_type": "code",
      "execution_count": null,
      "metadata": {
        "id": "lV_haJEAHl7M",
        "colab": {
          "base_uri": "https://localhost:8080/"
        },
        "outputId": "2251c608-9840-4b28-b5dd-3ca1117e2715"
      },
      "outputs": [
        {
          "output_type": "stream",
          "name": "stdout",
          "text": [
            "[(16, 16), (11, 10), (20, 3), (9, 4), (15, 6)]\n"
          ]
        }
      ],
      "source": [
        "squared_nums_lambda = list(map(lambda x,y: (x**2, y**2) if x<10 and y<10 else (x,y), numbers, more_numbers))\n",
        "print(squared_nums_lambda)"
      ]
    },
    {
      "cell_type": "markdown",
      "metadata": {
        "id": "lKGEGSoxHl7M"
      },
      "source": [
        "#### In-Class Exercise #2 <br>\n",
        "<p>Use the map function to double each number and minus it by one in the list by using a lambda function</p>"
      ]
    },
    {
      "cell_type": "code",
      "execution_count": null,
      "metadata": {
        "id": "L3xwzEYxHl7N",
        "colab": {
          "base_uri": "https://localhost:8080/"
        },
        "outputId": "6d8206a2-ee89-4dc6-f9bf-8119939d9c6b"
      },
      "outputs": [
        {
          "output_type": "stream",
          "name": "stdout",
          "text": [
            "[7, 21, 39, 5, 29, 39]\n"
          ]
        }
      ],
      "source": [
        "double_nums_minus_one = list(map(lambda x: x*2 - 1, numbers))\n",
        "print(double_nums_minus_one)"
      ]
    },
    {
      "cell_type": "markdown",
      "metadata": {
        "id": "iPTpyfFDHl7N"
      },
      "source": [
        "## Filter() <br>\n",
        "<p>Filter's are similar to the map function, where you're able to pass a function argument and a list argument and filter out something from the list based on the conditions passed. Similar to the map function, it returns a filter object, so you need to type convert it to a list()</p>"
      ]
    },
    {
      "cell_type": "markdown",
      "metadata": {
        "id": "18qxylrLHl7N"
      },
      "source": [
        "#### Syntax"
      ]
    },
    {
      "cell_type": "code",
      "execution_count": null,
      "metadata": {
        "id": "67ybBHZmHl7N",
        "colab": {
          "base_uri": "https://localhost:8080/"
        },
        "outputId": "41d73f66-79ea-4d62-93c2-8dc15d9e76ec"
      },
      "outputs": [
        {
          "output_type": "stream",
          "name": "stdout",
          "text": [
            "['Bob', 'Andy', 'Angel']\n"
          ]
        }
      ],
      "source": [
        "names = ['Bob', 'Andy', 'Maxwell', 'Eva', 'Angel']\n",
        "\n",
        "def ab_names(name):\n",
        "  if name[0].lower() == 'a':\n",
        "    return True\n",
        "  elif name[0].lower() == 'b':\n",
        "    return True\n",
        "  else:\n",
        "    return False\n",
        "\n",
        "ab_name_list = list(filter(ab_names, names))\n",
        "print(ab_name_list) "
      ]
    },
    {
      "cell_type": "markdown",
      "metadata": {
        "id": "fFVTE8ygHl7N"
      },
      "source": [
        "#### Using Lambda's with Filter()"
      ]
    },
    {
      "cell_type": "code",
      "execution_count": null,
      "metadata": {
        "id": "hGzmUhDZHl7N",
        "colab": {
          "base_uri": "https://localhost:8080/"
        },
        "outputId": "f4350e96-bc15-4262-8357-c85de1e096be"
      },
      "outputs": [
        {
          "output_type": "stream",
          "name": "stdout",
          "text": [
            "['Bob', 'Andy', 'Angel']\n"
          ]
        }
      ],
      "source": [
        "a_names_lambda = list(filter(lambda name: True if (name[0].lower() == 'a' or name[0].lower() == 'b')  else False, names))\n",
        "print(a_names_lambda)"
      ]
    },
    {
      "cell_type": "markdown",
      "metadata": {
        "id": "JbwJqeJfHl7N"
      },
      "source": [
        "#### In-Class Exercise #3 <br>\n",
        "<p>Filter out all the numbers that are below the mean of the list.<br><b>Hint: Import the 'statistics' module</b></p>"
      ]
    },
    {
      "cell_type": "code",
      "execution_count": null,
      "metadata": {
        "id": "fYXKUWKDHl7N",
        "colab": {
          "base_uri": "https://localhost:8080/"
        },
        "outputId": "06923331-b002-46ca-e9db-b73aec7d16f0"
      },
      "outputs": [
        {
          "output_type": "stream",
          "name": "stdout",
          "text": [
            "15.428571428571429\n",
            "[12, 15, 13, 10]\n"
          ]
        }
      ],
      "source": [
        "from statistics import mean\n",
        "\n",
        "number_list = [12, 15, 17, 13, 22, 10, 19]\n",
        "number_list_agv = mean(number_list)\n",
        "\n",
        "print(number_list_agv)\n",
        "\n",
        "numbers_below_avg = list(filter(lambda number_below_avg: number_below_avg < mean(number_list), number_list))\n",
        "\n",
        "print(numbers_below_avg)"
      ]
    },
    {
      "cell_type": "markdown",
      "metadata": {
        "id": "Lhu-Q3xzHl7N"
      },
      "source": [
        "## Reduce() <br>\n",
        "<p>Be very careful when using this function, as of Python 3 it's been moved to the 'functools' library and no longer is a built-in function.<br>The creator of Python himself, says to just use a for loop instead.</p>"
      ]
    },
    {
      "cell_type": "markdown",
      "metadata": {
        "id": "2MkjMacxHl7N"
      },
      "source": [
        "#### Syntax"
      ]
    },
    {
      "cell_type": "code",
      "execution_count": null,
      "metadata": {
        "id": "Nd-ve9n5Hl7N",
        "colab": {
          "base_uri": "https://localhost:8080/"
        },
        "outputId": "48b2cd17-2f26-4a04-e7d5-f58571d22f13"
      },
      "outputs": [
        {
          "output_type": "stream",
          "name": "stdout",
          "text": [
            "30\n",
            "-26\n"
          ]
        }
      ],
      "source": [
        "from functools import reduce\n",
        "\n",
        "list_1 = [2, 4, 6, 8, 10]\n",
        "\n",
        "def addNums(num1, num2):\n",
        "  return num1 + num2\n",
        "\n",
        "result_add = reduce(addNums, list_1)\n",
        "\n",
        "print(result_add)\n",
        "\n",
        "def subtractNums(num1, num2):\n",
        "  return num1 - num2\n",
        "\n",
        "result_sub = reduce(subtractNums, list_1)\n",
        "print(result_sub)"
      ]
    },
    {
      "cell_type": "markdown",
      "metadata": {
        "id": "sgVwefLcHl7N"
      },
      "source": [
        "#### Using Lambda's with Reduce()"
      ]
    },
    {
      "cell_type": "code",
      "execution_count": null,
      "metadata": {
        "id": "3oZgOGdSHl7O",
        "colab": {
          "base_uri": "https://localhost:8080/"
        },
        "outputId": "2b7dbf45-8e41-4033-92a4-3e7d45251a6f"
      },
      "outputs": [
        {
          "output_type": "stream",
          "name": "stdout",
          "text": [
            "30\n"
          ]
        }
      ],
      "source": [
        "result_lamb = reduce(lambda x, y: x + y, list_1)\n",
        "print(result_lamb)"
      ]
    },
    {
      "cell_type": "markdown",
      "metadata": {
        "id": "MumnAH6tHl7O"
      },
      "source": [
        "#### In-Class Exercise #4 <br>\n",
        "<p>Use the reduce function to multiply the numbers in the list below together with a lambda function.</p>"
      ]
    },
    {
      "cell_type": "code",
      "execution_count": null,
      "metadata": {
        "id": "2MAVxxkbHl7O",
        "colab": {
          "base_uri": "https://localhost:8080/"
        },
        "outputId": "50cc2f23-8988-416f-aa9b-2657d5cbd8f5"
      },
      "outputs": [
        {
          "output_type": "stream",
          "name": "stdout",
          "text": [
            "24\n"
          ]
        }
      ],
      "source": [
        "my_list = [1,2,3,4]\n",
        "result1_lamb = reduce(lambda x, y: x * y, my_list)\n",
        "print(result1_lamb)"
      ]
    },
    {
      "cell_type": "markdown",
      "metadata": {
        "id": "FF4v3K3kHl7O"
      },
      "source": [
        "## Recursion <br>\n",
        "<p>Recursion means that a function is calling itself, so it contanstly executes until a base case is reached. It will then push the returning values back up the chain until the function is complete. A prime example of recursion is computing factorials... such that 5! (factorial) is 5*4*3*2*1 which equals 120.</p>"
      ]
    },
    {
      "cell_type": "markdown",
      "metadata": {
        "id": "ds8-pS6ZHl7O"
      },
      "source": [
        "#### Implementing a Base Case"
      ]
    },
    {
      "cell_type": "code",
      "execution_count": null,
      "metadata": {
        "id": "Q0AyesFUHl7O",
        "colab": {
          "base_uri": "https://localhost:8080/"
        },
        "outputId": "fe1c54bb-0f9e-43a4-8069-96e4f8dbdf28"
      },
      "outputs": [
        {
          "output_type": "stream",
          "name": "stdout",
          "text": [
            "addNums(5) = 5 + addNums(4)\n",
            "addNums(4) = 4 + addNums(3)\n",
            "addNums(3) = 3 + addNums(2)\n",
            "addNums(2) = 2 + addNums(1)\n",
            "addNums(1) = 1\n"
          ]
        },
        {
          "output_type": "execute_result",
          "data": {
            "text/plain": [
              "15"
            ]
          },
          "metadata": {},
          "execution_count": 29
        }
      ],
      "source": [
        "def addNums(num):\n",
        "  if num <= 1:\n",
        "    print(\"addNums(1) = 1\")\n",
        "    return num\n",
        "  else:\n",
        "    print(f'addNums({num}) = {num} + addNums({num-1})')\n",
        "    return num + addNums(num-1)\n",
        "\n",
        "addNums(5)"
      ]
    },
    {
      "cell_type": "markdown",
      "metadata": {
        "id": "tOrMgvOlHl7O"
      },
      "source": [
        "#### Writing a Factorial Function"
      ]
    },
    {
      "cell_type": "code",
      "execution_count": null,
      "metadata": {
        "id": "DfiWu_n3Hl7O",
        "colab": {
          "base_uri": "https://localhost:8080/"
        },
        "outputId": "bf2ba3e9-c673-4301-b92b-acde47672e46"
      },
      "outputs": [
        {
          "output_type": "execute_result",
          "data": {
            "text/plain": [
              "120"
            ]
          },
          "metadata": {},
          "execution_count": 28
        }
      ],
      "source": [
        "def factorial(num):\n",
        "  if num<=1:\n",
        "    return 1\n",
        "  else:\n",
        "    return num * factorial(num-1)\n",
        "factorial(5)"
      ]
    },
    {
      "cell_type": "markdown",
      "metadata": {
        "id": "IgLSKJqfHl7O"
      },
      "source": [
        "#### In-Class Exercise #5 <br>\n",
        "<p>Write a recursive function that subtracts all numbers to the argument given.</p>"
      ]
    },
    {
      "cell_type": "code",
      "execution_count": null,
      "metadata": {
        "id": "suGpSC1wHl7O",
        "colab": {
          "base_uri": "https://localhost:8080/"
        },
        "outputId": "1bc1b1c9-81d1-4924-e3cc-a1f4874567d5"
      },
      "outputs": [
        {
          "output_type": "stream",
          "name": "stdout",
          "text": [
            "subNums(10) = 10 - subNums(9)\n",
            "subNums(9) = 9 - subNums(8)\n",
            "subNums(8) = 8 - subNums(7)\n",
            "subNums(7) = 7 - subNums(6)\n",
            "subNums(6) = 6 - subNums(5)\n",
            "subNums(5) = 5 - subNums(4)\n",
            "subNums(4) = 4 - subNums(3)\n",
            "subNums(3) = 3 - subNums(2)\n",
            "subNums(2) = 2 - subNums(1)\n",
            "subNums(1) = 1\n"
          ]
        },
        {
          "output_type": "execute_result",
          "data": {
            "text/plain": [
              "5"
            ]
          },
          "metadata": {},
          "execution_count": 35
        }
      ],
      "source": [
        "def subNums(num):\n",
        "  if num <= 1:\n",
        "    print(\"subNums(1) = 1\")\n",
        "    return num\n",
        "  else:\n",
        "    print(f'subNums({num}) = {num} - subNums({num-1})')\n",
        "    return num - subNums(num-1)\n",
        "\n",
        "subNums(10)"
      ]
    },
    {
      "cell_type": "markdown",
      "metadata": {
        "id": "QJaFcoVfHl7O"
      },
      "source": [
        "## Generators <br>\n",
        "<p>Generators are a type of iterable, like lists or tuples. They do not allow indexing, but they can still be iterated through with for loops. They are created using functions and the yield statement.</p>"
      ]
    },
    {
      "cell_type": "markdown",
      "metadata": {
        "id": "ViVYDOrFHl7O"
      },
      "source": [
        "#### Yield Keyword <br>\n",
        "<p>The yield keyword denotes a generator, it doesn't return so it won't leave the function and reset all variables in the function scope, instead it yields the number back to the caller.</p>"
      ]
    },
    {
      "cell_type": "code",
      "execution_count": 1,
      "metadata": {
        "id": "3_1QmFymHl7O",
        "colab": {
          "base_uri": "https://localhost:8080/"
        },
        "outputId": "e805226b-5189-41c0-c1cc-d0056c0b17a5"
      },
      "outputs": [
        {
          "output_type": "stream",
          "name": "stdout",
          "text": [
            "2\n",
            "4\n",
            "6\n",
            "8\n",
            "10\n",
            "12\n",
            "14\n",
            "16\n",
            "18\n"
          ]
        },
        {
          "output_type": "execute_result",
          "data": {
            "text/plain": [
              "<generator object my_range at 0x7f5092ff2900>"
            ]
          },
          "metadata": {},
          "execution_count": 1
        }
      ],
      "source": [
        "def my_range(stop, start, step = 2):\n",
        "  while start<stop:\n",
        "    yield start\n",
        "    start  = start + step\n",
        "\n",
        "for i in my_range(20, start = 2):\n",
        "  my_generator_value = i\n",
        "  print(my_generator_value)\n",
        "\n",
        "my_range(20, start=2)"
      ]
    },
    {
      "cell_type": "markdown",
      "metadata": {
        "id": "pRLSx-o-Hl7P"
      },
      "source": [
        "#### Infinite Generator"
      ]
    },
    {
      "cell_type": "code",
      "execution_count": null,
      "metadata": {
        "id": "hrnM8lyHHl7P"
      },
      "outputs": [],
      "source": [
        "# bad, never create infinite loops"
      ]
    },
    {
      "cell_type": "markdown",
      "metadata": {
        "id": "s_oVq_gDHl7P"
      },
      "source": [
        "#### In-Class Exercise #6 <br>\n",
        "<p>Create a generator that takes a number argument and yields that number squared, then prints each number squared until zero is reached.</p>"
      ]
    },
    {
      "cell_type": "code",
      "execution_count": 3,
      "metadata": {
        "id": "nyBcvMRLHl7P",
        "colab": {
          "base_uri": "https://localhost:8080/"
        },
        "outputId": "8cb185c6-3811-484a-a382-1812a7ae1199"
      },
      "outputs": [
        {
          "output_type": "stream",
          "name": "stdout",
          "text": [
            "49\n",
            "36\n",
            "25\n",
            "16\n",
            "9\n",
            "4\n",
            "1\n"
          ]
        },
        {
          "output_type": "execute_result",
          "data": {
            "text/plain": [
              "<generator object my_seq_range at 0x7f5072aa2f90>"
            ]
          },
          "metadata": {},
          "execution_count": 3
        }
      ],
      "source": [
        "def my_seq_range(stop, start, step = 1):\n",
        "  while start>stop:\n",
        "    yield start*start\n",
        "    start  = start - step\n",
        "\n",
        "for i in my_seq_range(0, start = 7):\n",
        "  my_seq_generator_value = i\n",
        "  print(my_seq_generator_value)\n",
        "\n",
        "my_seq_range(20, start=2)"
      ]
    },
    {
      "cell_type": "markdown",
      "metadata": {
        "id": "ZlvJqAFXHl7P"
      },
      "source": [
        "# Exercises"
      ]
    },
    {
      "cell_type": "markdown",
      "metadata": {
        "id": "_JwSCy7SHl7P"
      },
      "source": [
        "### Exercise #1 <br>\n",
        "<p>Filter out all of the empty strings from the list below</p>\n",
        "\n",
        "`Output: ['Argentina', 'San Diego', 'Boston', 'New York']`"
      ]
    },
    {
      "cell_type": "code",
      "execution_count": 5,
      "metadata": {
        "id": "AfWgHx3pHl7P",
        "colab": {
          "base_uri": "https://localhost:8080/"
        },
        "outputId": "b61d9196-8963-42cf-c23a-99f13f16d6e9"
      },
      "outputs": [
        {
          "output_type": "stream",
          "name": "stdout",
          "text": [
            "['Argentina', 'San Diego', 'Boston', 'New York']\n"
          ]
        }
      ],
      "source": [
        "places = [\" \",\"Argentina\", \" \", \"San Diego\",\"\",\"  \",\"\",\"Boston\",\"New York\"]\n",
        "not_empty_places = list(filter(lambda non_empty_place: non_empty_place.strip() != \"\", places))\n",
        "\n",
        "print(not_empty_places)"
      ]
    },
    {
      "cell_type": "markdown",
      "metadata": {
        "id": "Ye4381vRHl7P"
      },
      "source": [
        "### Exercise #2 <br>\n",
        "<p>Write an anonymous function that sorts this list by the last name...<br><b>Hint: Use the \".sort()\" method and access the key\"</b></p>\n",
        "\n",
        "`Output: ['Victor aNisimov', 'Gary A.J. Bernstein', 'Joel Carter', 'Andrew P. Garfield', 'David hassELHOFF']`"
      ]
    },
    {
      "cell_type": "code",
      "execution_count": 4,
      "metadata": {
        "id": "Qf3NNJs6Hl7Q",
        "colab": {
          "base_uri": "https://localhost:8080/"
        },
        "outputId": "0b31603d-eef9-4cf7-c407-c15c29278038"
      },
      "outputs": [
        {
          "output_type": "stream",
          "name": "stdout",
          "text": [
            "['Victor aNisimov', 'Gary A.J. Bernstein', 'Joel Carter', 'Andrew P. Garfield', 'David hassELHOFF']\n"
          ]
        }
      ],
      "source": [
        "author = [\"Joel Carter\", \"Victor aNisimov\", \"Andrew P. Garfield\",\"David hassELHOFF\",\"Gary A.J. Bernstein\"]\n",
        "author.sort(key = lambda x: x.split()[-1].upper())\n",
        "print(author)"
      ]
    },
    {
      "cell_type": "markdown",
      "metadata": {
        "id": "YpPbbgTVHl7Q"
      },
      "source": [
        "### Exercise #3 <br>\n",
        "<p>Convert the list below from Celsius to Farhenheit, using the map function with a lambda...</p>\n",
        "\n",
        "`Output: [('Nashua', 89.6), ('Boston', 53.6), ('Los Angelos', 111.2), ('Miami', 84.2)]\n",
        "`"
      ]
    },
    {
      "cell_type": "code",
      "execution_count": 3,
      "metadata": {
        "id": "RclG5tHqHl7Q",
        "colab": {
          "base_uri": "https://localhost:8080/"
        },
        "outputId": "8ec21839-77b8-4778-8832-24e393c016b7"
      },
      "outputs": [
        {
          "output_type": "stream",
          "name": "stdout",
          "text": [
            "[('Nashua', 89.6), ('Boston', 53.6), ('Los Angelos', 111.2), ('Miami', 84.2)]\n"
          ]
        }
      ],
      "source": [
        "# F = (9/5)*C + 32\n",
        "places = [('Nashua',32),(\"Boston\",12),(\"Los Angelos\",44),(\"Miami\",29)]\n",
        "\n",
        "farhenheit_places = list(map(lambda place:(place[0], (place[1]*(9/5)+32)), places))\n",
        "print(farhenheit_places)"
      ]
    },
    {
      "cell_type": "markdown",
      "metadata": {
        "id": "yKxp3La1Hl7Q"
      },
      "source": [
        "### Exercise #4 <br>\n",
        "<p>Write a recursion function to perform the fibonacci sequence up to the number passed in.</p>\n",
        "\n",
        "`Output for fib(5) => \n",
        "Iteration 0: 1\n",
        "Iteration 1: 1\n",
        "Iteration 2: 2\n",
        "Iteration 3: 3\n",
        "Iteration 4: 5\n",
        "Iteration 5: 8`"
      ]
    },
    {
      "cell_type": "code",
      "execution_count": 18,
      "metadata": {
        "scrolled": true,
        "id": "vfx1K_f1Hl7Q",
        "colab": {
          "base_uri": "https://localhost:8080/"
        },
        "outputId": "50b2c95f-354f-44db-f144-412769c6bc15"
      },
      "outputs": [
        {
          "output_type": "stream",
          "name": "stdout",
          "text": [
            "Iteration 0: 0\n",
            "Iteration 1: 1\n",
            "Iteration 2: 1\n",
            "Iteration 3: 2\n",
            "Iteration 4: 3\n",
            "Iteration 5: 5\n",
            "Iteration 6: 8\n",
            "Iteration 7: 13\n",
            "Iteration 8: 21\n",
            "Iteration 9: 34\n"
          ]
        }
      ],
      "source": [
        "def fib(n):\n",
        "  if n == 0 or n==1:\n",
        "    #print(f'Iteration {n}: {n}')\n",
        "    return n\n",
        "  else:\n",
        "    #fib_value = fib(n-1)+fib(n-2)\n",
        "    #print(f'Iteration {n}: {fib_value}')\n",
        "    return (fib(n-1)+fib(n-2))\n",
        "\n",
        "for i in range(10):\n",
        "  print(f'Iteration {i}: {fib(i)}')\n",
        "\n",
        "#print(fib(5))"
      ]
    }
  ],
  "metadata": {
    "kernelspec": {
      "display_name": "Python 3",
      "language": "python",
      "name": "python3"
    },
    "language_info": {
      "codemirror_mode": {
        "name": "ipython",
        "version": 3
      },
      "file_extension": ".py",
      "mimetype": "text/x-python",
      "name": "python",
      "nbconvert_exporter": "python",
      "pygments_lexer": "ipython3",
      "version": "3.7.6"
    },
    "colab": {
      "provenance": [],
      "include_colab_link": true
    }
  },
  "nbformat": 4,
  "nbformat_minor": 0
}
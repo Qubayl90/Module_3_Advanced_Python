{
  "cells": [
    {
      "cell_type": "markdown",
      "metadata": {
        "id": "FrbIdd5tAAg3"
      },
      "source": [
        "# Algorithms, Binary Search & Linked Lists"
      ]
    },
    {
      "cell_type": "markdown",
      "metadata": {
        "id": "wccNvmPTAAg7"
      },
      "source": [
        "## Tasks Today:\n",
        " \n",
        "1) <b>In-Place Algorithms</b> <br>\n",
        " &nbsp;&nbsp;&nbsp;&nbsp; a) Syntax <br>\n",
        " &nbsp;&nbsp;&nbsp;&nbsp; a) Out of Place Algorithm <br>\n",
        " &nbsp;&nbsp;&nbsp;&nbsp; b) In-Class Exercise #1 <br>\n",
        "2) <b>Two Pointers</b> <br>\n",
        "3) <b>Linked Lists</b> <br>\n",
        "4) <b>Merge Sort</b> <br>\n",
        " &nbsp;&nbsp;&nbsp;&nbsp; a) Video on Algorithms <br>\n",
        " &nbsp;&nbsp;&nbsp;&nbsp; b) How it Works <br>\n",
        "5) <b>Exercises</b> <br>\n",
        " &nbsp;&nbsp;&nbsp;&nbsp; a) Exercise #1 - Reverse a List in Place Using an In-Place Algorithm <br>\n",
        " &nbsp;&nbsp;&nbsp;&nbsp; b) Exercise #2 - Find Distinct Words <br>\n",
        " &nbsp;&nbsp;&nbsp;&nbsp; c) Exercise #3 - Write a program to implement a Linear Search Algorithm. <br>"
      ]
    },
    {
      "cell_type": "markdown",
      "metadata": {
        "id": "Uf-b1JhNAAg8"
      },
      "source": [
        "## In-Place Algorithms"
      ]
    },
    {
      "cell_type": "markdown",
      "metadata": {
        "id": "nyVKH89_AAg9"
      },
      "source": [
        "#### Syntax"
      ]
    },
    {
      "cell_type": "code",
      "execution_count": null,
      "metadata": {
        "id": "4aZG5A20AAg-",
        "colab": {
          "base_uri": "https://localhost:8080/"
        },
        "outputId": "59180637-82f4-4453-e888-7d618967bc83"
      },
      "outputs": [
        {
          "output_type": "stream",
          "name": "stdout",
          "text": [
            "[20, 10, 35]\n",
            "[20, 35, 10]\n"
          ]
        }
      ],
      "source": [
        "def my_swap(a_list, x, y, z):\n",
        "  a_list[x], a_list[y], a_list[z] = a_list[z], a_list[y], a_list[x]\n",
        "  return a_list\n",
        "\n",
        "my_list = [20, 10, 35]\n",
        "print(my_list)\n",
        "#my_swap(my_list, 0,1,2)\n",
        "my_swap(my_list, 2,0,1)\n",
        "print(my_list)"
      ]
    },
    {
      "cell_type": "markdown",
      "metadata": {
        "id": "JTe30SOoAAg_"
      },
      "source": [
        "#### Out of Place Algorithm"
      ]
    },
    {
      "cell_type": "code",
      "execution_count": null,
      "metadata": {
        "id": "_nGRcjF0AAhA",
        "colab": {
          "base_uri": "https://localhost:8080/"
        },
        "outputId": "f844b22c-24b7-40d4-c3c7-86b10c189385"
      },
      "outputs": [
        {
          "output_type": "stream",
          "name": "stdout",
          "text": [
            "[10, 35, 20]\n",
            "[20, 35, 10]\n",
            "['a', 'b', 'c', 'd']\n",
            "['d', 'c', 'b', 'a']\n"
          ]
        }
      ],
      "source": [
        "my_list_copy = my_list[::-1]\n",
        "print(my_list_copy)\n",
        "print(my_list)\n",
        "\n",
        "array = ['a', 'b', 'c', 'd']\n",
        "new_array = ['a']* len(array)\n",
        "print(array)\n",
        "\n",
        "arr_length =  len(array) - 1\n",
        "\n",
        "for i in range(arr_length):\n",
        "  new_array[i] = array[arr_length-i]\n",
        "\n",
        "array = new_array\n",
        "print(array)"
      ]
    },
    {
      "cell_type": "markdown",
      "metadata": {
        "id": "eKSXKcQvAAhA"
      },
      "source": [
        "#### In-Class Exercise #1 <br>\n",
        "<p>Write a function that takes in four arguments (list, index1, index2, index3), and swaps those three positions in the list passed in.</p>"
      ]
    },
    {
      "cell_type": "code",
      "execution_count": null,
      "metadata": {
        "id": "f_gClAstAAhB",
        "colab": {
          "base_uri": "https://localhost:8080/"
        },
        "outputId": "3eab8540-f593-4571-be92-63dc241fecde"
      },
      "outputs": [
        {
          "output_type": "stream",
          "name": "stdout",
          "text": [
            "[10, 4, 3, 8, 4, 2, 6]\n",
            "[10, 4, 8, 2, 4, 3, 6]\n"
          ]
        }
      ],
      "source": [
        "l_1 = [10, 4, 3, 8, 4, 2, 6]\n",
        "def new_swap(list1, index1, index2, index3):\n",
        "  list1[index1], list1[index2], list1[index3] = list1[index2], list1[index3], list1[index1]\n",
        "  return list1\n",
        "\n",
        "print(l_1)\n",
        "new_swap(l_1, 2,3,5)\n",
        "print(l_1) "
      ]
    },
    {
      "cell_type": "markdown",
      "metadata": {
        "id": "uWokfYp7AAhB"
      },
      "source": [
        "## Two Pointers"
      ]
    },
    {
      "cell_type": "markdown",
      "metadata": {
        "id": "OLts59cyAAhC"
      },
      "source": [
        "#### Syntax"
      ]
    },
    {
      "cell_type": "code",
      "execution_count": null,
      "metadata": {
        "id": "CoB4pno8AAhC",
        "colab": {
          "base_uri": "https://localhost:8080/"
        },
        "outputId": "6b0b3539-7587-4d1c-8ae1-80a4c4cfbc38"
      },
      "outputs": [
        {
          "output_type": "stream",
          "name": "stdout",
          "text": [
            "[2, 5, 62, 3, 9, 10, 41]\n",
            "[41, 10, 9, 3, 62, 5, 2]\n"
          ]
        }
      ],
      "source": [
        "def twoPointers(alist):\n",
        "  #create the pointers \n",
        "  left = 0\n",
        "  right =  len(alist) -1\n",
        "  while left<=right:\n",
        "    alist[left], alist[right] = alist[right], alist[left]\n",
        "    left +=1\n",
        "    right -=1\n",
        "  return alist\n",
        "\n",
        "alist = [2,5,62,3,9,10,41]\n",
        "print(alist)\n",
        "print(twoPointers(alist))\n"
      ]
    },
    {
      "cell_type": "markdown",
      "metadata": {
        "id": "-Uo5krs_AAhC"
      },
      "source": [
        "#### Video of Algorithms <br>\n",
        "<p>Watch the video about algorithms.</p>\n",
        "\n",
        "https://www.youtube.com/watch?v=Q9HjeFD62Uk\n",
        "\n",
        "https://www.youtube.com/watch?v=kPRA0W1kECg\n",
        "\n",
        "https://www.youtube.com/watch?v=ZZuD6iUe3Pc"
      ]
    },
    {
      "cell_type": "markdown",
      "metadata": {
        "id": "HuntKr7NAAhD"
      },
      "source": [
        "# Sorting Algorithms"
      ]
    },
    {
      "cell_type": "markdown",
      "metadata": {
        "id": "X5v6B_6LAAhD"
      },
      "source": [
        "#### Bubble Sort\n",
        "\n",
        "Worst Case: O(n^2) Time - O(1) Space"
      ]
    },
    {
      "cell_type": "code",
      "execution_count": null,
      "metadata": {
        "id": "MbXbXPwTAAhD",
        "colab": {
          "base_uri": "https://localhost:8080/"
        },
        "outputId": "777b2c8b-6658-47c8-af5b-f7c1575f7b5c"
      },
      "outputs": [
        {
          "output_type": "execute_result",
          "data": {
            "text/plain": [
              "[1, 22, 34, 44, 55, 66, 88, 100]"
            ]
          },
          "metadata": {},
          "execution_count": 2
        }
      ],
      "source": [
        "def swap(i,j, array):\n",
        "  array[i], array[j] = array[j], array[i]\n",
        "\n",
        "def bubbleSort(array):\n",
        "  isSorted = False\n",
        "  while not isSorted:\n",
        "    isSorted = True\n",
        "    for num in range(len(array) - 1):\n",
        "      if array[num] > array[num+1]:\n",
        "        swap(num, num+1, array)\n",
        "        isSorted = False\n",
        "  return array\n",
        "\n",
        "bubbleSort([22, 55, 88, 44, 1, 100, 34, 66])"
      ]
    },
    {
      "cell_type": "markdown",
      "metadata": {
        "id": "jcqwrRdTAAhE"
      },
      "source": [
        "##### Insertion Sort\n",
        "\n",
        "Worst Case: O(n^2) time - O(1)space"
      ]
    },
    {
      "cell_type": "code",
      "execution_count": null,
      "metadata": {
        "id": "LcsZA2yMAAhE",
        "colab": {
          "base_uri": "https://localhost:8080/"
        },
        "outputId": "4e02876f-f977-49a1-cf27-4d50e4ed3218"
      },
      "outputs": [
        {
          "output_type": "execute_result",
          "data": {
            "text/plain": [
              "[1, 22, 34, 44, 55, 66, 88, 100]"
            ]
          },
          "metadata": {},
          "execution_count": 3
        }
      ],
      "source": [
        "def swap(i,j, array):\n",
        "  array[i], array[j] = array[j], array[i]\n",
        "\n",
        "def insertionSort(array):\n",
        "  for i in range(1, len(array)):\n",
        "    j = i\n",
        "    while j>0 and array[j]<array[j-1]:\n",
        "      swap(j, j-1, array)\n",
        "      j -=1\n",
        "  return array\n",
        "\n",
        "insertionSort([22, 55, 88, 44, 1, 100, 34, 66])"
      ]
    },
    {
      "cell_type": "markdown",
      "metadata": {
        "id": "8rxGSADqAAhE"
      },
      "source": [
        "## Merge Sort"
      ]
    },
    {
      "cell_type": "markdown",
      "metadata": {
        "id": "M7zehRY8AAhF"
      },
      "source": [
        "#### How it Works"
      ]
    },
    {
      "cell_type": "code",
      "execution_count": null,
      "metadata": {
        "id": "vbciyWsLAAhF",
        "colab": {
          "base_uri": "https://localhost:8080/"
        },
        "outputId": "0c9416ea-ea1b-40d6-dff8-0f9b6b8fc2b0"
      },
      "outputs": [
        {
          "output_type": "stream",
          "name": "stdout",
          "text": [
            "Splitting ... [17, 6, 5, 9, 20]\n",
            "Splitting ... [17, 6]\n",
            "Splitting ... [17]\n",
            "Merging.... [17]\n",
            "Splitting ... [6]\n",
            "Merging.... [6]\n",
            "Merging.... [6, 17]\n",
            "Splitting ... [5, 9, 20]\n",
            "Splitting ... [5]\n",
            "Merging.... [5]\n",
            "Splitting ... [9, 20]\n",
            "Splitting ... [9]\n",
            "Merging.... [9]\n",
            "Splitting ... [20]\n",
            "Merging.... [20]\n",
            "Merging.... [9, 20]\n",
            "Merging.... [5, 9, 20]\n",
            "Merging.... [5, 6, 9, 17, 20]\n"
          ]
        },
        {
          "output_type": "execute_result",
          "data": {
            "text/plain": [
              "[5, 6, 9, 17, 20]"
            ]
          },
          "metadata": {},
          "execution_count": 7
        }
      ],
      "source": [
        "#1 - Split everything into its own group\n",
        "#2 - From left to right, merge two groups together \n",
        "#3 - While merging, place each item in the correct position within the merged group \n",
        "#4 - Continue steps 3-4 until only one group is left\n",
        "\n",
        "from random import randint\n",
        "nums = [randint(0,20) for i in range(5)]\n",
        "\n",
        "def mergeSort(alist):\n",
        "  print('Splitting ...', alist)\n",
        "\n",
        "  #Step1 -  Divide the array into equal parts (as much as possible)\n",
        "  if len(alist) > 1:\n",
        "    mid = len(alist)//2\n",
        "    lefthalf = alist[:mid]\n",
        "    righthalf = alist[mid:]\n",
        "\n",
        "    #recursively call mergeSort to perform splits if required \n",
        "    #Then merge once the splits are done \n",
        "    mergeSort(lefthalf)\n",
        "    mergeSort(righthalf)\n",
        "\n",
        "    # index pointers for our list \n",
        "    i = 0 #Pointer for left half\n",
        "    j = 0 #Pointer for right half\n",
        "    k = 0 #Pointer for main array\n",
        "\n",
        "    #Step2- Compare the lefthalf and the righthalf\n",
        "    while i < len(lefthalf) and j< len(righthalf):\n",
        "      if lefthalf[i] <righthalf[j]:\n",
        "        alist[k] = lefthalf[i]\n",
        "        i = i + 1\n",
        "      else:\n",
        "        alist[k] = righthalf[j]\n",
        "        j = j + 1\n",
        "      k = k + 1\n",
        "    #Step3- while merging, place items in the correct positions\n",
        "    while i < len(lefthalf):\n",
        "      alist[k] = lefthalf[i]\n",
        "      i = i+1\n",
        "      k = k+1\n",
        "    while j< len(righthalf):\n",
        "      alist[k] = righthalf[j]\n",
        "      j = j+1\n",
        "      k = k+1\n",
        "  print(\"Merging....\", alist)\n",
        "  return alist\n",
        "\n",
        "mergeSort(nums)"
      ]
    },
    {
      "cell_type": "markdown",
      "metadata": {
        "id": "RZNHwv-5AAhF"
      },
      "source": [
        "# Binary Search\n",
        "\n",
        "The Binary Search algorithm works by finding the number in the middle of a given array and comparing it to the target. Given that the array is sorted\n",
        "\n",
        "* The worst case run time for this algorithm is `O(log(n))`"
      ]
    },
    {
      "cell_type": "code",
      "execution_count": null,
      "metadata": {
        "id": "8-rSsZDQAAhF",
        "colab": {
          "base_uri": "https://localhost:8080/",
          "height": 36
        },
        "outputId": "81333e8b-9f0f-474e-db59-a4f62c37821e"
      },
      "outputs": [
        {
          "output_type": "execute_result",
          "data": {
            "text/plain": [
              "'The index is 5'"
            ],
            "application/vnd.google.colaboratory.intrinsic+json": {
              "type": "string"
            }
          },
          "metadata": {},
          "execution_count": 10
        }
      ],
      "source": [
        "#List of numbers must be sorted \n",
        "\n",
        "def binarySearchHelperFunction(array, target, left, right):\n",
        "  while left <= right:\n",
        "    middle = (left+right)//2\n",
        "    potentialMatch = array[middle]\n",
        "    if target == potentialMatch:\n",
        "      return f'The index is {middle}'\n",
        "    elif target <  potentialMatch:\n",
        "      right = middle -1\n",
        "    else:\n",
        "      left = middle+1\n",
        "  return -1\n",
        "\n",
        "def binarySearch(array, target):\n",
        "  return binarySearchHelperFunction(array, target, 0, len(array)-1)\n",
        "\n",
        "binarySearch([22,44,55,66,77,99,100,101], 99)"
      ]
    },
    {
      "cell_type": "markdown",
      "metadata": {
        "id": "bvMBjhl9AAhG"
      },
      "source": [
        "# Exercises"
      ]
    },
    {
      "cell_type": "markdown",
      "metadata": {
        "id": "uhEbr_LKAAhG"
      },
      "source": [
        "### Exercise #1 <br>\n",
        "<p>Reverse the list below in-place using an in-place algorithm.<br>For extra credit: Reverse the strings at the same time.</p>"
      ]
    },
    {
      "cell_type": "code",
      "execution_count": null,
      "metadata": {
        "id": "iYZRXemzAAhH",
        "colab": {
          "base_uri": "https://localhost:8080/"
        },
        "outputId": "6894abcd-3bfc-44b8-f0d6-16f6d0a925f0"
      },
      "outputs": [
        {
          "output_type": "stream",
          "name": "stdout",
          "text": [
            "teststring\n",
            "gnirtstset\n",
            "['this', 'is', 'a', 'sentence', '.']\n",
            "['.', 'ecnetnes', 'a', 'si', 'siht']\n"
          ]
        }
      ],
      "source": [
        "words = ['this' , 'is', 'a', 'sentence', '.']\n",
        "\n",
        "def reverseString(astring):\n",
        "  revereString =''\n",
        "  i = len(astring) -1\n",
        "  while i>=0:\n",
        "    revereString = revereString + astring[i]\n",
        "    i = i - 1\n",
        "  return revereString\n",
        "\n",
        "def reverseList(alist):\n",
        "  left = 0\n",
        "  right = len(alist) -1\n",
        "  while left <= right:\n",
        "    alist[left], alist[right] = reverseString(alist[right]), reverseString(alist[left])\n",
        "    left +=1\n",
        "    right -=1\n",
        "  return alist\n",
        "\n",
        "print(words)\n",
        "print(reverseList(words))"
      ]
    },
    {
      "cell_type": "markdown",
      "metadata": {
        "id": "qWmCF5y4AAhH"
      },
      "source": [
        "### Exercise #2 <br>\n",
        "<p>Create a function that counts how many distinct words are in the string below, then outputs a dictionary with the words as the key and the value as the amount of times that word appears in the string.<br>Should output:<br>{'a': 5,<br>\n",
        " 'abstract': 1,<br>\n",
        " 'an': 3,<br>\n",
        " 'array': 2, ... etc...</p>"
      ]
    },
    {
      "cell_type": "code",
      "execution_count": null,
      "metadata": {
        "id": "ACXoTIzeAAhI",
        "colab": {
          "base_uri": "https://localhost:8080/"
        },
        "outputId": "21eb31a6-1b62-45d5-d3f0-46e6f4283e4b"
      },
      "outputs": [
        {
          "output_type": "stream",
          "name": "stdout",
          "text": [
            "In computing a hash table hash map is a data structure which implements an associative array abstract data type a structure that can map keys to values A hash table uses a hash function to compute an index into an array of buckets or slots from which the desired value can be found\n",
            "{'In': 1, 'computing': 1, 'a': 4, 'hash': 4, 'table': 2, 'map': 2, 'is': 1, 'data': 2, 'structure': 2, 'which': 2, 'implements': 1, 'an': 3, 'associative': 1, 'array': 2, 'abstract': 1, 'type': 1, 'that': 1, 'can': 2, 'keys': 1, 'to': 2, 'values': 1, 'A': 1, 'uses': 1, 'function': 1, 'compute': 1, 'index': 1, 'into': 1, 'of': 1, 'buckets': 1, 'or': 1, 'slots': 1, 'from': 1, 'the': 1, 'desired': 1, 'value': 1, 'be': 1, 'found': 1}\n"
          ]
        }
      ],
      "source": [
        "import re\n",
        "a_text = 'In computing, a hash table hash map is a data structure which implements an associative array abstract data type, a structure that can map keys to values. A hash table uses a hash function to compute an index into an array of buckets or slots from which the desired value can be found'\n",
        "word_dict = {}\n",
        "only_alphanumberic_a_text = re.sub(r'[^A-Za-z0-9 ]+', '', a_text)\n",
        "#print(only_alphanumberic_a_text)\n",
        "for word in only_alphanumberic_a_text.split():\n",
        "  flag_word_found = False\n",
        "  #print(\"word-\", word)\n",
        "  for key, value in word_dict.items():\n",
        "    #print(key, \" : \", value)\n",
        "    if word == key:\n",
        "      #new_word_count = value +1\n",
        "      word_dict[key] = value + 1\n",
        "      flag_word_found = True\n",
        "      break\n",
        "  if flag_word_found == False:\n",
        "    word_dict[word] = 1\n",
        "  #print(word_dict)\n",
        "\n",
        "print(word_dict)"
      ]
    },
    {
      "cell_type": "markdown",
      "metadata": {
        "id": "7vE1aJiiAAhJ"
      },
      "source": [
        "## Exercise #3\n",
        "\n",
        "Write a program to implement a Linear Search Algorithm. Also in a comment, write the Time Complexity of the following algorithm.\n",
        "\n",
        "#### Hint: Linear Searching will require searching a list for a given number. "
      ]
    },
    {
      "cell_type": "code",
      "execution_count": null,
      "metadata": {
        "id": "V_JcvZhfAAhJ",
        "colab": {
          "base_uri": "https://localhost:8080/"
        },
        "outputId": "a7338aff-bdac-40da-9400-29e15f8699e8"
      },
      "outputs": [
        {
          "output_type": "stream",
          "name": "stdout",
          "text": [
            "The index is 5\n"
          ]
        }
      ],
      "source": [
        "def linearSearch(alist, target):\n",
        "  for i in range(len(alist)-1):\n",
        "    if alist[i] == target:\n",
        "      return f'The index is {i}'\n",
        "      \n",
        "print(linearSearch([22,44,55,66,77,99,100,101], 99))\n",
        "\n",
        "# Time Complexity of Linear Search Algorithm \n",
        "# Best Case - \tO(1)\n",
        "# Average Case -\tO(n)\n",
        "# Worst Case -\tO(n)"
      ]
    }
  ],
  "metadata": {
    "kernelspec": {
      "display_name": "Python 3",
      "language": "python",
      "name": "python3"
    },
    "language_info": {
      "codemirror_mode": {
        "name": "ipython",
        "version": 3
      },
      "file_extension": ".py",
      "mimetype": "text/x-python",
      "name": "python",
      "nbconvert_exporter": "python",
      "pygments_lexer": "ipython3",
      "version": "3.7.6"
    },
    "colab": {
      "provenance": [],
      "collapsed_sections": [
        "wccNvmPTAAg7",
        "-Uo5krs_AAhC"
      ]
    }
  },
  "nbformat": 4,
  "nbformat_minor": 0
}